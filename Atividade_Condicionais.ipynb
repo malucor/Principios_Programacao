{
  "nbformat": 4,
  "nbformat_minor": 0,
  "metadata": {
    "colab": {
      "provenance": []
    },
    "kernelspec": {
      "name": "python3",
      "display_name": "Python 3"
    },
    "language_info": {
      "name": "python"
    }
  },
  "cells": [
    {
      "cell_type": "code",
      "execution_count": null,
      "metadata": {
        "id": "ZkmAJtFbzeJP"
      },
      "outputs": [],
      "source": [
        "# Ler um número inteiro de dizer se é par ou ímpar.\n",
        "\n",
        "numero = int(input(f'Digite um número inteiro: '))\n",
        "\n",
        "if (numero % 2) == 0:\n",
        "  print(f'O número {numero} é par')\n",
        "else:\n",
        "  print(f'O número {numero} é ímpar')"
      ]
    },
    {
      "cell_type": "code",
      "source": [
        "# Ler a temperatura de uma pessoa e exibir a mensagem “Febre Alta” (temp ≥ 39), “Febril” (39 > temp ≥ 37) ou “Sem Febre” (temp < 37).\n",
        "\n",
        "temperatura = float(input(f'Digite a temperatura: '))\n",
        "\n",
        "if temperatura >= 39:\n",
        "  print(f'{temperatura} = \"Febre Alta\"')\n",
        "elif 39 > temperatura >= 37:\n",
        "  print(f'{temperatura} = \"Febril\"')\n",
        "else:\n",
        "  print(f'{temperatura} = \"Sem Febre\"')"
      ],
      "metadata": {
        "id": "XED-PlDz7a66"
      },
      "execution_count": null,
      "outputs": []
    },
    {
      "cell_type": "code",
      "source": [
        "# Entrar com um distância (km) e o tempo de viagem (horas) de um automóvel, e dizer se a velocidade média foi superior ao limite (110 km/h) ou não.\n",
        "\n",
        "distancia = float(input(f'Digite a distância, em Km: '))\n",
        "tempo = float(input(f'Digite o tempo, em horas: '))\n",
        "\n",
        "velocidade = distancia / tempo\n",
        "\n",
        "if velocidade > 110:\n",
        "  print(f'A velocidade média de uma viagem de {distancia} Km feita em {tempo} horas foi superior ao limite\\n{velocidade} Km/h > 110 Km/h')\n",
        "else:\n",
        "  print(f'A velocidade média de uma viagem de {distancia} Km feita em {tempo} horas foi inferior ou igual ao limte\\n{velocidade} Km/h <= 110 Km/h')"
      ],
      "metadata": {
        "id": "JrO5AK7U8iJx"
      },
      "execution_count": null,
      "outputs": []
    },
    {
      "cell_type": "code",
      "source": [
        "# Faça um Programa que peça para entrar com um ano (inteiro com 4 dígitos) e determine se o mesmo é ou não bissexto (divisível por 4).\n",
        "\n",
        "ano = int(input(f'Digite um ano (com 4 dígitos): '))\n",
        "\n",
        "if ano % 4 == 0:\n",
        "  print(f'O ano {ano} é bissexto')\n",
        "else:\n",
        "  print(f'O ano {ano} não é bissexto')"
      ],
      "metadata": {
        "id": "74DZVCxkCKe0"
      },
      "execution_count": null,
      "outputs": []
    },
    {
      "cell_type": "code",
      "source": [
        "# Faça um Programa que leia três números e mostre-os em ordem decrescente.\n",
        "\n",
        "num_1 = float(input(f'Digite o primeiro número: '))\n",
        "num_2 = float(input(f'Digite o segundo número: '))\n",
        "num_3 = float(input(f'Digite o terceiro número: '))\n",
        "\n",
        "if num_1 >= num_2 and num_2 >= num_3:\n",
        "  print(f'{num_1} >= {num_2} >= {num_3}')\n",
        "elif num_1 >= num_3 and num_3 >= num_2:\n",
        "  print(f'{num_1} >= {num_3} >= {num_2}')\n",
        "elif num_2 >= num_1 and num_1 >= num_3:\n",
        "  print(f'{num_2} >= {num_1} >= {num_3}')\n",
        "elif num_2 >= num_3 and num_3 >= num_1:\n",
        "  print(f'{num_2} >= {num_3} >= {num_1}')\n",
        "elif num_3 >= num_1 and num_1 >= num_2:\n",
        "  print(f'{num_3} >= {num_1} >= {num_2}')\n",
        "elif num_3 >= num_2 and num_2 >= num_1:\n",
        "  print(f'{num_3} >= {num_2} >= {num_1}')"
      ],
      "metadata": {
        "id": "m8heDYZ8GWdn"
      },
      "execution_count": null,
      "outputs": []
    },
    {
      "cell_type": "code",
      "source": [
        "# Faça um programa que pergunte o preço de três produtos e informe qual produto você deve comprar, sabendo que a decisão é sempre pelo mais barato.\n",
        "\n",
        "preco_1 = float(input(f'Digite o primeiro preço: '))\n",
        "preco_2 = float(input(f'Digite o segundo preço: '))\n",
        "preco_3 = float(input(f'Digite o terceiro preço: '))\n",
        "\n",
        "if preco_1 <= preco_2 and preco_1 <= preco_3:\n",
        "  print(f'É para comprar o produto de preço {preco_1}')\n",
        "elif preco_2 <= preco_1 and preco_2 <= preco_3:\n",
        "  print(f'É para comprar o produto de preço {preco_2}')\n",
        "elif preco_3 <= preco_1 and preco_3 <= preco_2:\n",
        "  print(f'É para comprar o produto de preço {preco_3}')"
      ],
      "metadata": {
        "id": "fzTvSgDdRxRT"
      },
      "execution_count": null,
      "outputs": []
    },
    {
      "cell_type": "code",
      "source": [
        "# Faça um Programa que pergunte em que turno a pessoa estuda. Peça para digitar M-matutino ou V-Vespertino ou N-Noturno. Imprima a mensagem \"Bom Dia!\", \"Boa Tarde!\" ou \"Boa Noite!\" ou \"Valor Inválido!\", conforme o caso.\n",
        "\n",
        "print(f'M - Matutino\\nV - Vespetino\\nN - Noturo')\n",
        "\n",
        "turno = str(input(f'Digite o turno: '))\n",
        "\n",
        "if turno == 'M' or turno == 'm':\n",
        "  print(f'\"Bom Dia!\"')\n",
        "elif turno == 'V' or turno == 'v':\n",
        "  print(f'\"Boa Tarde!\"')\n",
        "elif turno == 'N' or turno == 'n':\n",
        "  print(f'\"Boa Noite!\"')\n",
        "else:\n",
        "  print(f'\"Valor Inválido!\"\\n\\nFoi digitado \"{turno}\", mas só é aceito M, V ou N')"
      ],
      "metadata": {
        "id": "GchH4nJFTx7w"
      },
      "execution_count": null,
      "outputs": []
    },
    {
      "cell_type": "code",
      "source": [
        "# Faça um Programa que leia um número e exiba o dia correspondente da semana. (1-Domingo, 2- Segunda, etc.), se digitar outro valor deve aparecer valor inválido.\n",
        "\n",
        "print(f'obs: Considere que a semana começa no Domingo\\n')\n",
        "\n",
        "dia = int(input(f'Digite o número correspondente ao dia da semana:'))\n",
        "\n",
        "if dia == 1:\n",
        "  print(f'Domingo')\n",
        "elif dia == 2:\n",
        "  print(f'Segunda-feira')\n",
        "elif dia == 3:\n",
        "  print(f'Terça-feira')\n",
        "elif dia == 4:\n",
        "  print(f'Quarta-feira')\n",
        "elif dia == 5:\n",
        "  print(f'Quinta-feira')\n",
        "elif dia == 6:\n",
        "  print(f'Sexta-feira')\n",
        "elif dia == 7:\n",
        "  print(f'Sábado')\n",
        "else:\n",
        "  print(f'\"Valor Inválido!\"\\n\\nFoi digitado \"{turno}\", mas só é aceito valores de 1 a 7')"
      ],
      "metadata": {
        "id": "K35ksMVjXIrF"
      },
      "execution_count": null,
      "outputs": []
    }
  ]
}