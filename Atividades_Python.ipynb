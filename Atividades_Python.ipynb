{
  "nbformat": 4,
  "nbformat_minor": 0,
  "metadata": {
    "colab": {
      "provenance": []
    },
    "kernelspec": {
      "name": "python3",
      "display_name": "Python 3"
    },
    "language_info": {
      "name": "python"
    }
  },
  "cells": [
    {
      "cell_type": "code",
      "execution_count": null,
      "metadata": {
        "id": "Bq239rPm75Fh"
      },
      "outputs": [],
      "source": [
        "# Ler um número inteiro e exibir seu dobro.\n",
        "\n",
        "numero = int(input(f'Digite um número intero: '))\n",
        "\n",
        "print(f'O dobro de {numero} é: \"{numero * 2}\"')"
      ]
    },
    {
      "cell_type": "code",
      "source": [
        "# Exibir a multiplicação de dois números reais informados pelo usuário.\n",
        "\n",
        "print(f'Digite dois números para serem multiplicados \\n')\n",
        "\n",
        "num_1 = float(input(f'Digite o primeiro número: '))\n",
        "num_2 = float(input(f'Digite o segundo número: '))\n",
        "\n",
        "print(f'{num_1} * {num_2} = {num_1 * num_2}')"
      ],
      "metadata": {
        "id": "xHAHpOQW_13G"
      },
      "execution_count": null,
      "outputs": []
    },
    {
      "cell_type": "code",
      "source": [
        "# Calcular a média aritmética de três notas fornecidas pelo usuário.\n",
        "\n",
        "nota_1 = float(input(f'Digite a primeira nota: '))\n",
        "nota_2 = float(input(f'Digite a segunda nota: '))\n",
        "nota_3 = float(input(f'Digite a terceira nota: '))\n",
        "\n",
        "print(f'A média aritmética entre {nota_1}, {nota_2}, {nota_3} é: \"{(nota_1 + nota_2 + nota_3) / 3}\"')"
      ],
      "metadata": {
        "id": "lsfSeAFMA3bc"
      },
      "execution_count": null,
      "outputs": []
    },
    {
      "cell_type": "code",
      "source": [
        "# A imobiliária XYZ vende apenas terrenos retangulares. Faça um programa para ler as dimensões de um terreno e exibir a área do mesmo.\n",
        "\n",
        "comprimento = float(input(f'Digite o comprimento do terreno: '))\n",
        "largura = float(input(f'Digite a largura do terreno: '))\n",
        "\n",
        "print(f'A área de um terreno de comprimento {comprimento} e largura {largura} é: \"{comprimento * largura}\"')"
      ],
      "metadata": {
        "id": "40wnTMzTB_Id"
      },
      "execution_count": null,
      "outputs": []
    },
    {
      "cell_type": "code",
      "source": [
        "# Faça um programa para ler o salário de um funcionário e aumentá-lo em 20%. Imprima seu salário final.\n",
        "\n",
        "salario = float(input(f'Digite o salário: '))\n",
        "\n",
        "print(f'Um acréscimo de 20% num salário de {salario} é: \"{salario * 1.2}\"')"
      ],
      "metadata": {
        "id": "vZrhPPQkDm2A"
      },
      "execution_count": null,
      "outputs": []
    },
    {
      "cell_type": "code",
      "source": [
        "# Ler o valor de um cheque e escrever o quanto vai ser recolhido de CPMF. Considere que imposto recolhe uma taxa de 0,3%. Imprimir o valor do imposto.\n",
        "\n",
        "cheque = float(input(f'Digite o valor do cheque: '))\n",
        "\n",
        "print(f'O valor recolhido pelo CPMF de um cheque de valor {cheque} é: \"{cheque * 0.3/100}\"')"
      ],
      "metadata": {
        "id": "6d7veyHcEHMt"
      },
      "execution_count": null,
      "outputs": []
    },
    {
      "cell_type": "code",
      "source": [
        "#Escreva uma sequência de comandos para solicitar o nome e a matrícula do aluno. Em seguida exibir as informações no seguinte formato:\n",
        "# – Nome do Aluno: “XXXXXXXX”, Matrícula: “ZZZZ”\n",
        "\n",
        "nome = str(input(f'Digite o nome do aluno: '))\n",
        "matricula = int(input(f'Digite o número da matrícula: '))\n",
        "\n",
        "print(f'- Nome do Aluno \"{nome}\", Matrícula: \"{matricula}\"')"
      ],
      "metadata": {
        "id": "LNBNvE-pFxfG"
      },
      "execution_count": null,
      "outputs": []
    }
  ]
}